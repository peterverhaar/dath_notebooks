{
 "cells": [
  {
   "cell_type": "code",
   "execution_count": 1,
   "id": "c2b30872",
   "metadata": {},
   "outputs": [],
   "source": [
    "import pandas as pd\n",
    "import json\n",
    "import re\n",
    "from os.path import join"
   ]
  },
  {
   "cell_type": "code",
   "execution_count": 2,
   "id": "11c967df",
   "metadata": {},
   "outputs": [],
   "source": [
    "data_file = join('Data','arma_ubl.json')\n",
    "\n",
    "with open(data_file,encoding='utf-8') as file:\n",
    "    data = json.loads( file.read() )"
   ]
  },
  {
   "cell_type": "code",
   "execution_count": 3,
   "id": "5925a3dc",
   "metadata": {},
   "outputs": [
    {
     "name": "stdout",
     "output_type": "stream",
     "text": [
      "id\t990026841800302711_item_3218582\n",
      "title\tWarlicher bericht: wie von den dreyen Churfürsten und Fürsten, Namlich Tryer, Pfaltz unnd Hessen, weylandt Frantz von Sickingen uberzogen: Auch was sich im selbigen mit eroberung seiner und anderer Schlösser, unnd sunst von tag zu tag begeben, durch den Erenhalt verzeychet : Anno M.D.XXIII\n",
      "language\tGerman\n",
      "latitude\t52.15274\n",
      "longitude\t4.4836\n",
      "concepts\t['http://id.loc.gov/authorities/subjects/sh85085001', 'http://www.wikidata.org/entity/Q107274053', 'http://vocab.getty.edu/aat/300404588', 'http://data.europeana.eu/concept/2847', 'http://data.europeana.eu/concept/2967', 'http://www.wikidata.org/entity/Q107274057']\n",
      "preview\thttps://api.europeana.eu/thumbnail/v2/url.json?uri=https%3A%2F%2Fiiif.universiteitleiden.nl%2Fiiif%2F2%2Fhdl%253A1887.1%252Fitem%253A3218597%2Ffull%2F800%2C%2F0%2Fdefault.jpg&type=TEXT\n",
      "concepts_labels\t{'http://id.loc.gov/authorities/subjects/sh85085001': 'Middle Ages', 'http://www.wikidata.org/entity/Q107274053': 'Reading culture (medieval)', 'http://vocab.getty.edu/aat/300404588': 'printed materials (object genre)', 'http://data.europeana.eu/concept/2847': 'Printed matter', 'http://data.europeana.eu/concept/2967': 'Reading culture', 'http://www.wikidata.org/entity/Q107274057': 'Reading culture'}\n",
      "timespan\t16th century\n",
      "iiif_manifest\thttps://digitalcollections.universiteitleiden.nl/iiif_manifest/item:3218582/manifest\n",
      "europeana_landingpage\thttps://www.europeana.eu/item/598/990026841800302711_item_3218582\n",
      "year\t1523\n",
      "shelfmark\tTHYSPF DUI 6\n",
      "places\t{'https://sws.geonames.org/2751772/': 'Gemeente Leiden', 'https://sws.geonames.org/11874022/': 'Leiden University Library'}\n",
      "creator\t['Sturm, Caspar']\n"
     ]
    }
   ],
   "source": [
    "record_nr = 0\n",
    "for field in data[record_nr]:\n",
    "    print(f'{field}\\t{data[record_nr][field]}')"
   ]
  },
  {
   "cell_type": "markdown",
   "id": "359a615e",
   "metadata": {},
   "source": [
    "## Map"
   ]
  },
  {
   "cell_type": "code",
   "execution_count": 4,
   "id": "c1b71058",
   "metadata": {},
   "outputs": [],
   "source": [
    "gis_data = dict()\n",
    "\n",
    "for ms in data:\n",
    "\n",
    "    lat = round(float(ms['latitude']),5)\n",
    "    long = round(float(ms['longitude']),5)\n",
    "    gis_data[ (lat,long) ] = gis_data.get( (lat,long), '' ) + f'''<a href=\"{ms['europeana_landingpage']}\" target=\"_blank\">{ms['shelfmark']}</a> ; '''\n"
   ]
  },
  {
   "cell_type": "code",
   "execution_count": 5,
   "id": "04a5db3a",
   "metadata": {},
   "outputs": [],
   "source": [
    "def scale_number(unscaled, to_min, to_max, from_min, from_max):\n",
    "    return (to_max-to_min)*(unscaled-from_min)/(from_max-from_min)+to_min\n",
    "\n",
    "def scale_list(l, to_min, to_max):\n",
    "    return [scale_number(i, to_min, to_max, min(l), max(l)) for i in l]\n",
    "\n",
    "max_nr = 0 \n",
    "for lat,long in gis_data:\n",
    "    nr_mss = re.split( ';' , gis_data[ (lat,long) ] )\n",
    "    if len(nr_mss) > max_nr:\n",
    "        max_nr = len(nr_mss)\n",
    "\n",
    "nr_list = range(1,max_nr+1)\n",
    "new_list = scale_list(nr_list , 10, 20)\n",
    "\n",
    "rescaled_dict = dict()\n",
    "\n",
    "for i,nr in enumerate(nr_list):\n",
    "    rescaled_dict[nr] = new_list[i]\n",
    "    \n"
   ]
  },
  {
   "cell_type": "code",
   "execution_count": 6,
   "id": "3b9f243a",
   "metadata": {},
   "outputs": [],
   "source": [
    "geo = dict()\n",
    "feature_collection = dict()\n",
    "feature_collection['type'] = 'FeatureCollection'\n",
    "features = []\n",
    "for lat,long in gis_data:\n",
    "    nr_mss = re.split( ';' , gis_data[ (lat,long) ] )    \n",
    "    gis_data[ (lat,long) ] = re.sub( r';$' , '' , gis_data[ (lat,long) ] )\n",
    "    geo_json = dict()\n",
    "    geo_json['type'] = 'Feature'\n",
    "    geo_json['properties'] = { 'description': gis_data[ (lat,long) ] , 'number': rescaled_dict[ len(nr_mss) ] }\n",
    "    point = dict()\n",
    "\n",
    "    point['type'] = 'Point'\n",
    "    point['coordinates'] = [ long , lat ]\n",
    "    geo_json['geometry'] = point\n",
    "    features.append(geo_json)\n",
    "\n",
    "feature_collection['features'] = features\n",
    "json_out = json.dumps( feature_collection , indent = 4 )\n",
    "out = open(  join('Data','arma_map.js') , 'w')\n",
    "out.write( f'''var arma_data = {str(json_out)}''')\n",
    "out.close()\n"
   ]
  },
  {
   "cell_type": "markdown",
   "id": "dbd442a0",
   "metadata": {},
   "source": [
    "The code above creates <a href=\"https://bookandbyte.universiteitleiden.nl/DACH/arma_ubl.php?v=map\" target=\"_blank\">an interactive map</a> which indicates the locations on which the manuscripts have been created. "
   ]
  },
  {
   "cell_type": "markdown",
   "id": "5d5abc30",
   "metadata": {},
   "source": [
    "## Network"
   ]
  },
  {
   "cell_type": "code",
   "execution_count": 7,
   "id": "a81cbad1",
   "metadata": {},
   "outputs": [],
   "source": [
    "edges = []\n",
    "wikidata = dict()\n",
    "\n",
    "for ms in data:\n",
    "    if 'agents' in ms:\n",
    "        agents = ms['agents']\n",
    "        for a in agents:\n",
    "            wikidata[a] = agents[a]\n",
    "    \n",
    "    msid = ms['shelfmark']\n",
    "    \n",
    "    for creator in ms['creator']:\n",
    "        if re.search( r'^http' , creator ):\n",
    "            if re.search( 'wikidata' , creator ):\n",
    "\n",
    "                creator_name = wikidata.get(creator)\n",
    "                if creator_name:\n",
    "                    edges.append( (msid,creator_name) )\n",
    "        else:\n",
    "            edges.append( (msid,creator) )"
   ]
  },
  {
   "cell_type": "code",
   "execution_count": 8,
   "id": "720aff04",
   "metadata": {},
   "outputs": [],
   "source": [
    "nodes = dict()\n",
    "nodes_type = dict()\n",
    "\n",
    "for e1,e2 in edges:\n",
    "    nodes_type[e1] = 'Book'\n",
    "    nodes_type[e2] = 'Person'\n",
    "\n",
    "node_id = 0 \n",
    "\n",
    "for node in nodes_type:\n",
    "    #print(node)\n",
    "    node_id += 1\n",
    "    nodes[node] = node_id\n",
    "    \n",
    "nodes_file = open( f'nodes.csv','w',encoding='utf-8')\n",
    "edges_file = open( f'edges.csv','w',encoding='utf-8')\n",
    "\n",
    "edges_file.write('Source,Target\\n')\n",
    "for e1,e2 in edges:\n",
    "    edges_file.write( f'{int(nodes[e1])},{int(nodes[e2])}\\n' )\n",
    "    \n",
    "nodes_file.write('Id,Label,Type\\n')\n",
    "\n",
    "for node in nodes:\n",
    "    nodes_file.write( f'{nodes[node]},\"{node}\",{nodes_type[node]}\\n' )\n",
    "        \n",
    "nodes_file.close() \n",
    "edges_file.close()"
   ]
  },
  {
   "cell_type": "code",
   "execution_count": 9,
   "id": "5a46200a",
   "metadata": {},
   "outputs": [],
   "source": [
    "\n",
    "\n",
    "nodes_file = open( f'nodes.csv','w',encoding='utf-8')\n",
    "edges_file = open( f'edges.csv','w',encoding='utf-8')\n",
    "\n",
    "edges_file.write('Source,Target\\n')\n",
    "for e1,e2 in edges:\n",
    "    edges_file.write( f'{int(nodes[e1])},{int(nodes[e2])}\\n' )\n",
    "    \n",
    "nodes_file.write('Id,Label,Type\\n')\n",
    "\n",
    "for node in nodes:\n",
    "    nodes_file.write( f'{nodes[node]},\"{node}\",{nodes_type[node]}\\n' )\n",
    "        \n",
    "nodes_file.close() \n",
    "edges_file.close()"
   ]
  },
  {
   "cell_type": "code",
   "execution_count": 12,
   "id": "87f0b514",
   "metadata": {},
   "outputs": [],
   "source": [
    "import networkx as nx\n",
    "from networkx.algorithms import community \n",
    "from pyvis.network import Network\n",
    "\n",
    "nodes_df = pd.read_csv(f'nodes.csv' )\n",
    "edges_df = pd.read_csv(f'edges.csv' )\n",
    "\n",
    "G = nx.Graph()\n",
    "\n",
    "for i,row in nodes_df.iterrows():\n",
    "    \n",
    "    node = row['Id']\n",
    "    label= row['Label']\n",
    "    if row['Type'] == 'Book':\n",
    "        c ='#EE7733'\n",
    "    else:\n",
    "        c = '#007788'  \n",
    "    G.add_node( node , label=label, title = label ,  color= c , strokeWidth=200)\n",
    "                \n",
    "for i,row in edges_df.iterrows():\n",
    "    G.add_edge( int(row['Source']) , int(row['Target']) )\n",
    "    \n",
    "#Setting up size attribute, based on degree\n",
    "scale = 10\n",
    "d = dict(G.degree)\n",
    "#Updating dict\n",
    "d.update((x, scale*y) for x, y in d.items())\n",
    "\n",
    "nx.set_node_attributes(G,d,'size')    \n",
    "    \n",
    "nt = Network( '100%' , '100%' ,  bgcolor=\"#dce5f2\" )\n",
    "\n",
    "nt.force_atlas_2based(\n",
    "        gravity=-60,\n",
    "        central_gravity=0.01,\n",
    "        spring_length=100,\n",
    "        spring_strength=0.08,\n",
    "        damping=0.4,\n",
    "        overlap= 0 )\n",
    "\n",
    "\n",
    "nt.from_nx(G)\n",
    "nt.show('arma_network.html')"
   ]
  },
  {
   "cell_type": "markdown",
   "id": "ad7518f3",
   "metadata": {},
   "source": [
    "The code in this section creates <a href=\"https://bookandbyte.universiteitleiden.nl/DACH/arma_ubl.php?v=network\" target=\"_blank\">a network visualisation</a> which indicates the relations between authors and manuscripts. "
   ]
  },
  {
   "cell_type": "markdown",
   "id": "12b84010",
   "metadata": {},
   "source": [
    "## Timeline"
   ]
  },
  {
   "cell_type": "code",
   "execution_count": null,
   "id": "c25063a5",
   "metadata": {},
   "outputs": [],
   "source": [
    "\n",
    "import os\n",
    "import re\n",
    "import json\n",
    "\n",
    "lines = []\n",
    "events = []\n",
    "\n",
    "\n",
    "\n",
    "def create_event( start_date , shelfmark , img , title ):\n",
    "\n",
    "    new_event = dict()\n",
    "    text = { \"headline\":f'{ shelfmark }',\"text\":f'{ title }' }\n",
    "    if len(img) > 0:\n",
    "        new_event[\"media\"] = { 'url': img }\n",
    "    new_event[\"start_date\"] = { 'year':start_date }\n",
    "    new_event[\"text\"] = text\n",
    "    return new_event\n",
    "\n",
    "\n",
    "\n",
    "for ms in data:\n",
    "\n",
    "    start_date = ms.get('year') \n",
    "    if start_date is None:\n",
    "        century = ms.get('timespan')\n",
    "        if century is not None:\n",
    "            if re.search( '^1' , century ):\n",
    "                start_date = century[:2] + '50'\n",
    "            else:\n",
    "                start_date = century[:1] + '50'\n",
    "    if not(re.search('^\\d{3,4}$' , str(start_date))):\n",
    "        if start_date is not None: \n",
    "            start_date = int(str(start_date)[:4])\n",
    "\n",
    "\n",
    "\n",
    "    if start_date is not None: \n",
    "        #print(ms['id'])\n",
    "        new_event = create_event( start_date , f'''<a href=\"{ms['europeana_landingpage']}\" target=\"_blank\">{ms['shelfmark']}</a>''' , ms['preview'] , ms['title'] )\n",
    "    events.append( new_event )\n",
    "\n",
    "\n",
    "\n",
    "title = dict()\n",
    "title['text'] = { 'headline': 'Medieval Manuscripts from the collections of Leiden University Libraries' , 'text': '<p>ARMA</p>'}\n",
    "\n",
    "json_file = { 'title': title , 'events': events }\n",
    "\n",
    "json_out = json.dumps( json_file , indent = 4 )\n",
    "#print( json_out )\n",
    "out = open(  'arma_bnf_timeline.json' , 'w')\n",
    "out.write( str(json_out) )\n",
    "out.close()\n"
   ]
  },
  {
   "cell_type": "markdown",
   "id": "f7f83008",
   "metadata": {},
   "source": [
    "The code in this section creates <a href=\"https://bookandbyte.universiteitleiden.nl/DACH/arma_ubl.php?v=timeline\" target=\"_blank\">a timeline</a> which indicating the years in whihc the manuscripts were produced.  "
   ]
  }
 ],
 "metadata": {
  "kernelspec": {
   "display_name": "Python 3 (ipykernel)",
   "language": "python",
   "name": "python3"
  },
  "language_info": {
   "codemirror_mode": {
    "name": "ipython",
    "version": 3
   },
   "file_extension": ".py",
   "mimetype": "text/x-python",
   "name": "python",
   "nbconvert_exporter": "python",
   "pygments_lexer": "ipython3",
   "version": "3.7.9"
  }
 },
 "nbformat": 4,
 "nbformat_minor": 5
}
